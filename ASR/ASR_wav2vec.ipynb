{
  "nbformat": 4,
  "nbformat_minor": 0,
  "metadata": {
    "colab": {
      "provenance": []
    },
    "kernelspec": {
      "name": "python3",
      "display_name": "Python 3"
    },
    "language_info": {
      "name": "python"
    },
    "accelerator": "GPU",
    "gpuClass": "standard"
  },
  "cells": [
    {
      "cell_type": "code",
      "execution_count": 62,
      "metadata": {
        "colab": {
          "base_uri": "https://localhost:8080/"
        },
        "id": "CWw5Ihj4Z6_4",
        "outputId": "4f49c9e8-2def-4ff7-c687-55660c074e1b"
      },
      "outputs": [
        {
          "output_type": "stream",
          "name": "stdout",
          "text": [
            "Looking in indexes: https://pypi.org/simple, https://us-python.pkg.dev/colab-wheels/public/simple/\n",
            "Requirement already satisfied: librosa in /usr/local/lib/python3.8/dist-packages (from -r requirements.txt (line 1)) (0.8.1)\n",
            "Requirement already satisfied: pydub in /usr/local/lib/python3.8/dist-packages (from -r requirements.txt (line 2)) (0.25.1)\n",
            "Requirement already satisfied: sentencepiece in /usr/local/lib/python3.8/dist-packages (from -r requirements.txt (line 3)) (0.1.97)\n",
            "Requirement already satisfied: torch in /usr/local/lib/python3.8/dist-packages (from -r requirements.txt (line 4)) (1.13.1+cu116)\n",
            "Requirement already satisfied: torchmetrics in /usr/local/lib/python3.8/dist-packages (from -r requirements.txt (line 5)) (0.11.1)\n",
            "Requirement already satisfied: transformers in /usr/local/lib/python3.8/dist-packages (from -r requirements.txt (line 6)) (4.26.1)\n",
            "Requirement already satisfied: pytube in /usr/local/lib/python3.8/dist-packages (from -r requirements.txt (line 7)) (12.1.2)\n",
            "Requirement already satisfied: spacy in /usr/local/lib/python3.8/dist-packages (from -r requirements.txt (line 8)) (2.3.9)\n",
            "Requirement already satisfied: numba>=0.43.0 in /usr/local/lib/python3.8/dist-packages (from librosa->-r requirements.txt (line 1)) (0.56.4)\n",
            "Requirement already satisfied: soundfile>=0.10.2 in /usr/local/lib/python3.8/dist-packages (from librosa->-r requirements.txt (line 1)) (0.12.1)\n",
            "Requirement already satisfied: numpy>=1.15.0 in /usr/local/lib/python3.8/dist-packages (from librosa->-r requirements.txt (line 1)) (1.22.4)\n",
            "Requirement already satisfied: scikit-learn!=0.19.0,>=0.14.0 in /usr/local/lib/python3.8/dist-packages (from librosa->-r requirements.txt (line 1)) (1.0.2)\n",
            "Requirement already satisfied: pooch>=1.0 in /usr/local/lib/python3.8/dist-packages (from librosa->-r requirements.txt (line 1)) (1.6.0)\n",
            "Requirement already satisfied: packaging>=20.0 in /usr/local/lib/python3.8/dist-packages (from librosa->-r requirements.txt (line 1)) (23.0)\n",
            "Requirement already satisfied: resampy>=0.2.2 in /usr/local/lib/python3.8/dist-packages (from librosa->-r requirements.txt (line 1)) (0.4.2)\n",
            "Requirement already satisfied: decorator>=3.0.0 in /usr/local/lib/python3.8/dist-packages (from librosa->-r requirements.txt (line 1)) (4.4.2)\n",
            "Requirement already satisfied: joblib>=0.14 in /usr/local/lib/python3.8/dist-packages (from librosa->-r requirements.txt (line 1)) (1.2.0)\n",
            "Requirement already satisfied: scipy>=1.0.0 in /usr/local/lib/python3.8/dist-packages (from librosa->-r requirements.txt (line 1)) (1.7.3)\n",
            "Requirement already satisfied: audioread>=2.0.0 in /usr/local/lib/python3.8/dist-packages (from librosa->-r requirements.txt (line 1)) (3.0.0)\n",
            "Requirement already satisfied: typing-extensions in /usr/local/lib/python3.8/dist-packages (from torch->-r requirements.txt (line 4)) (4.5.0)\n",
            "Requirement already satisfied: requests in /usr/local/lib/python3.8/dist-packages (from transformers->-r requirements.txt (line 6)) (2.25.1)\n",
            "Requirement already satisfied: tqdm>=4.27 in /usr/local/lib/python3.8/dist-packages (from transformers->-r requirements.txt (line 6)) (4.64.1)\n",
            "Requirement already satisfied: tokenizers!=0.11.3,<0.14,>=0.11.1 in /usr/local/lib/python3.8/dist-packages (from transformers->-r requirements.txt (line 6)) (0.13.2)\n",
            "Requirement already satisfied: huggingface-hub<1.0,>=0.11.0 in /usr/local/lib/python3.8/dist-packages (from transformers->-r requirements.txt (line 6)) (0.12.1)\n",
            "Requirement already satisfied: pyyaml>=5.1 in /usr/local/lib/python3.8/dist-packages (from transformers->-r requirements.txt (line 6)) (6.0)\n",
            "Requirement already satisfied: regex!=2019.12.17 in /usr/local/lib/python3.8/dist-packages (from transformers->-r requirements.txt (line 6)) (2022.6.2)\n",
            "Requirement already satisfied: filelock in /usr/local/lib/python3.8/dist-packages (from transformers->-r requirements.txt (line 6)) (3.9.0)\n",
            "Requirement already satisfied: srsly<1.1.0,>=1.0.2 in /usr/local/lib/python3.8/dist-packages (from spacy->-r requirements.txt (line 8)) (1.0.6)\n",
            "Requirement already satisfied: catalogue<1.1.0,>=0.0.7 in /usr/local/lib/python3.8/dist-packages (from spacy->-r requirements.txt (line 8)) (1.0.2)\n",
            "Requirement already satisfied: murmurhash<1.1.0,>=0.28.0 in /usr/local/lib/python3.8/dist-packages (from spacy->-r requirements.txt (line 8)) (1.0.9)\n",
            "Requirement already satisfied: cymem<2.1.0,>=2.0.2 in /usr/local/lib/python3.8/dist-packages (from spacy->-r requirements.txt (line 8)) (2.0.7)\n",
            "Requirement already satisfied: plac<1.2.0,>=0.9.6 in /usr/local/lib/python3.8/dist-packages (from spacy->-r requirements.txt (line 8)) (1.1.3)\n",
            "Requirement already satisfied: preshed<3.1.0,>=3.0.2 in /usr/local/lib/python3.8/dist-packages (from spacy->-r requirements.txt (line 8)) (3.0.8)\n",
            "Requirement already satisfied: wasabi<1.1.0,>=0.4.0 in /usr/local/lib/python3.8/dist-packages (from spacy->-r requirements.txt (line 8)) (0.10.1)\n",
            "Requirement already satisfied: blis<0.8.0,>=0.4.0 in /usr/local/lib/python3.8/dist-packages (from spacy->-r requirements.txt (line 8)) (0.7.9)\n",
            "Requirement already satisfied: setuptools in /usr/local/lib/python3.8/dist-packages (from spacy->-r requirements.txt (line 8)) (57.4.0)\n",
            "Requirement already satisfied: thinc<7.5.0,>=7.4.1 in /usr/local/lib/python3.8/dist-packages (from spacy->-r requirements.txt (line 8)) (7.4.6)\n",
            "Requirement already satisfied: importlib-metadata in /usr/local/lib/python3.8/dist-packages (from numba>=0.43.0->librosa->-r requirements.txt (line 1)) (6.0.0)\n",
            "Requirement already satisfied: llvmlite<0.40,>=0.39.0dev0 in /usr/local/lib/python3.8/dist-packages (from numba>=0.43.0->librosa->-r requirements.txt (line 1)) (0.39.1)\n",
            "Requirement already satisfied: appdirs>=1.3.0 in /usr/local/lib/python3.8/dist-packages (from pooch>=1.0->librosa->-r requirements.txt (line 1)) (1.4.4)\n",
            "Requirement already satisfied: chardet<5,>=3.0.2 in /usr/local/lib/python3.8/dist-packages (from requests->transformers->-r requirements.txt (line 6)) (4.0.0)\n",
            "Requirement already satisfied: idna<3,>=2.5 in /usr/local/lib/python3.8/dist-packages (from requests->transformers->-r requirements.txt (line 6)) (2.10)\n",
            "Requirement already satisfied: certifi>=2017.4.17 in /usr/local/lib/python3.8/dist-packages (from requests->transformers->-r requirements.txt (line 6)) (2022.12.7)\n",
            "Requirement already satisfied: urllib3<1.27,>=1.21.1 in /usr/local/lib/python3.8/dist-packages (from requests->transformers->-r requirements.txt (line 6)) (1.24.3)\n",
            "Requirement already satisfied: threadpoolctl>=2.0.0 in /usr/local/lib/python3.8/dist-packages (from scikit-learn!=0.19.0,>=0.14.0->librosa->-r requirements.txt (line 1)) (3.1.0)\n",
            "Requirement already satisfied: cffi>=1.0 in /usr/local/lib/python3.8/dist-packages (from soundfile>=0.10.2->librosa->-r requirements.txt (line 1)) (1.15.1)\n",
            "Requirement already satisfied: pycparser in /usr/local/lib/python3.8/dist-packages (from cffi>=1.0->soundfile>=0.10.2->librosa->-r requirements.txt (line 1)) (2.21)\n",
            "Requirement already satisfied: zipp>=0.5 in /usr/local/lib/python3.8/dist-packages (from importlib-metadata->numba>=0.43.0->librosa->-r requirements.txt (line 1)) (3.14.0)\n"
          ]
        }
      ],
      "source": [
        "!pip install -r requirements.txt"
      ]
    },
    {
      "cell_type": "code",
      "source": [
        "from pytube import YouTube\n",
        "import os,shutil\n",
        "import re\n",
        "\n",
        "import audioread\n",
        "from IPython.display import Audio\n",
        "import librosa\n",
        "from pydub import AudioSegment, silence\n",
        "\n",
        "import torch\n",
        "from torchmetrics import WordErrorRate\n",
        "from transformers import pipeline, T5Tokenizer, T5ForConditionalGeneration, Wav2Vec2Processor, HubertForCTC\n"
      ],
      "metadata": {
        "id": "cf5bYNifadLO"
      },
      "execution_count": 63,
      "outputs": []
    },
    {
      "cell_type": "code",
      "source": [
        "## Load pre-trained Hubert model (used Connectionist Temporal Classification/CTC loss ) from HuggingFace\n",
        "## This particular model works for English, however threre are models that support other languages too\n",
        "\n",
        "model_name = \"facebook/hubert-large-ls960-ft\"\n",
        "stt_tokenizer = Wav2Vec2Processor.from_pretrained(model_name)\n",
        "stt_model = HubertForCTC.from_pretrained(model_name)"
      ],
      "metadata": {
        "id": "I7HfybqQa_iP"
      },
      "execution_count": 64,
      "outputs": []
    },
    {
      "cell_type": "code",
      "source": [
        "def download_audio(url=None):\n",
        "    if url!=None:\n",
        "      yt=YouTube(url)\n",
        "      print(yt.title)\n",
        "      stream=list(yt.streams.filter(only_audio=True, file_extension='mp4'))\n",
        "      stream[0].download() # stream has all .mp4 audios\n",
        "    else:\n",
        "      print(\"Invalid url,can't download\")"
      ],
      "metadata": {
        "id": "IN5KHY50aDay"
      },
      "execution_count": 65,
      "outputs": []
    },
    {
      "cell_type": "code",
      "source": [
        "#url=\"https://www.youtube.com/watch?v=MihlCysVWNs\"\n",
        "url=\"https://www.youtube.com/watch?v=YVQzFCPkgt4&list=PLreVlKwe2Z0QIdDwvVoa_3QSMifIF1w1A&index=7\"\n",
        "download_audio(url)"
      ],
      "metadata": {
        "colab": {
          "base_uri": "https://localhost:8080/"
        },
        "id": "Fo_dVR6XaDgN",
        "outputId": "7467651e-6d15-4af7-ad09-be8c17457fb4"
      },
      "execution_count": 66,
      "outputs": [
        {
          "output_type": "stream",
          "name": "stdout",
          "text": [
            "Auto_TS : Automatically build multiple Time Series models using a Single Line of Code\n"
          ]
        }
      ]
    },
    {
      "cell_type": "code",
      "source": [
        "def convert_to_wav(input_filename):\n",
        "  ext=input_filename[-3:]\n",
        "  output_filename=filename[:-3]+\"wav\"\n",
        "  if ext==\"mp3\":\n",
        "    sound = AudioSegment.from_mp3(input_filename)\n",
        "  else:\n",
        "    sound = AudioSegment.from_file(input_filename,format=ext)\n",
        "  sound = sound.set_frame_rate(16000)\n",
        "  sound.export(output_filename,format=\"wav\")\n",
        "  os.remove(input_filename)"
      ],
      "metadata": {
        "id": "Fqu3VhehaDiT"
      },
      "execution_count": 67,
      "outputs": []
    },
    {
      "cell_type": "code",
      "source": [
        "## we need audio in wav format + sample rate 16K Hz\n",
        "#filename=\"/content/Wake up to Reality - Madara Uchihas words.mp4\"\n",
        "filename=\"/content/Auto_TS  Automatically build multiple Time Series models using a Single Line of Code.mp4\"\n",
        "convert_to_wav(filename)"
      ],
      "metadata": {
        "id": "tNK5C0wcaDkc"
      },
      "execution_count": 68,
      "outputs": []
    },
    {
      "cell_type": "code",
      "source": [
        "## create temporary directory to store \n",
        "tmp_dir=\"/content/audio_chunks\"\n",
        "\n",
        "shutil.rmtree(f\"{tmp_dir}/\",ignore_errors=True)\n",
        "os.makedirs(tmp_dir)\n"
      ],
      "metadata": {
        "id": "04Eon-3GhY92"
      },
      "execution_count": 69,
      "outputs": []
    },
    {
      "cell_type": "code",
      "source": [
        "def silence_detection(audio):\n",
        "  dBs=audio.dBFS # get decibels \n",
        "  silence_list=silence.detect_silence(audio,min_silence_len=750,silence_thresh=dBs-14)\n",
        "  return silence_list"
      ],
      "metadata": {
        "id": "y9qEGvLbi3bc"
      },
      "execution_count": 70,
      "outputs": []
    },
    {
      "cell_type": "code",
      "source": [
        "filename=filename[:-3]+\"wav\"\n",
        "audio = AudioSegment.from_file(filename)\n",
        "silence_list = silence_detection(audio)\n",
        "silence_list"
      ],
      "metadata": {
        "colab": {
          "base_uri": "https://localhost:8080/"
        },
        "id": "hWCwVYhOi3gO",
        "outputId": "bd20bc74-c0b3-484a-927b-f16d95224152"
      },
      "execution_count": 71,
      "outputs": [
        {
          "output_type": "execute_result",
          "data": {
            "text/plain": [
              "[[4477, 6429],\n",
              " [8832, 10119],\n",
              " [15280, 16134],\n",
              " [22575, 23726],\n",
              " [29065, 30415],\n",
              " [37676, 39420],\n",
              " [48085, 49405],\n",
              " [54522, 56033],\n",
              " [70572, 71397],\n",
              " [73301, 76878],\n",
              " [83846, 86474],\n",
              " [94592, 98209],\n",
              " [101881, 106344],\n",
              " [110106, 111386],\n",
              " [114649, 117478],\n",
              " [122364, 128205],\n",
              " [132320, 135841],\n",
              " [139834, 140687],\n",
              " [145659, 149611],\n",
              " [154680, 158090],\n",
              " [162004, 166624],\n",
              " [174826, 177092],\n",
              " [182097, 185632],\n",
              " [188601, 189433],\n",
              " [190714, 191983],\n",
              " [197525, 200601],\n",
              " [210515, 214901],\n",
              " [220083, 222466],\n",
              " [224895, 225751],\n",
              " [228410, 229470],\n",
              " [231457, 236276],\n",
              " [238352, 240368],\n",
              " [245487, 246586],\n",
              " [251237, 253501],\n",
              " [257823, 259899],\n",
              " [264357, 272989],\n",
              " [275352, 280145],\n",
              " [284344, 285130],\n",
              " [290440, 294604],\n",
              " [305327, 311288],\n",
              " [317976, 319614],\n",
              " [326010, 327290],\n",
              " [328655, 330109],\n",
              " [342293, 344706],\n",
              " [346967, 347764],\n",
              " [351473, 354214],\n",
              " [359179, 364497],\n",
              " [377940, 379242],\n",
              " [381036, 384828],\n",
              " [390119, 391770],\n",
              " [399648, 402143],\n",
              " [404214, 405536],\n",
              " [409482, 412105],\n",
              " [414041, 417882],\n",
              " [419399, 423122],\n",
              " [427960, 428898],\n",
              " [430241, 431125],\n",
              " [439629, 440454],\n",
              " [442253, 447305],\n",
              " [453968, 456349],\n",
              " [459169, 461494],\n",
              " [464767, 470000],\n",
              " [473742, 474857],\n",
              " [478157, 480017],\n",
              " [483681, 485417],\n",
              " [488068, 489334],\n",
              " [490198, 495080],\n",
              " [501401, 505577],\n",
              " [510882, 511732],\n",
              " [516355, 519491],\n",
              " [521047, 524201],\n",
              " [529288, 534328],\n",
              " [542365, 545217],\n",
              " [546991, 547857],\n",
              " [550660, 552593],\n",
              " [554631, 555694],\n",
              " [561337, 563837],\n",
              " [570018, 571325],\n",
              " [578533, 579479],\n",
              " [583850, 585965],\n",
              " [590117, 590950],\n",
              " [602068, 602925],\n",
              " [604258, 606217]]"
            ]
          },
          "metadata": {},
          "execution_count": 71
        }
      ]
    },
    {
      "cell_type": "code",
      "source": [
        "# test = audio[54775:55690]\n",
        "# path = \"/content/test_3.wav\"\n",
        "# test.export(path) #Exports to a mp3 file in the current path.\n",
        "    \n",
        "# Audio(path, autoplay=False)"
      ],
      "metadata": {
        "id": "-vLsoNIdlcF1"
      },
      "execution_count": 72,
      "outputs": []
    },
    {
      "cell_type": "code",
      "source": [
        "## while breaking into chunks we need to take care of following points\n",
        "\n",
        "\n",
        "\n",
        "def create_chunk(audio,silence_list,threshold=14,max_interval=20000):\n",
        "\n",
        "    audio_length = int(audio.duration_seconds)*1000 ## we need value in (ms) not (s)\n",
        "    non_silent_chunk=[]\n",
        "    if len(silence_list)>0:\n",
        "        ## for 1st chunk \n",
        "        if silence_list[0][0]!=0:\n",
        "          nss=0 # non-silence chunk start\n",
        "          nse=silence_list[0][0] # non-silence chunk end\n",
        "          non_silent_chunk.append([nss,nse])\n",
        "        for idx in range(1,len(silence_list)):\n",
        "          nss=silence_list[idx-1][1]  # end of previous silence-chunk\n",
        "          nse=silence_list[idx][0]  # start of current silence-chunk\n",
        "          non_silent_chunk.append([nss,nse])\n",
        "\n",
        "        # after last silence chunk \n",
        "        if silence_list[-1][1]!=audio_length:\n",
        "          nss=silence_list[-1][1]\n",
        "          nse=audio_length\n",
        "          non_silent_chunk.append([nss,nse])\n",
        "    else:\n",
        "      non_silent_chunk.append([0,audio_length])\n",
        "\n",
        "    print(\"non_silent_chunk : \",non_silent_chunk)\n",
        "    new_non_silent_chunk = [] # we break larger non-silence chunk to smaller sub-chunks\n",
        "\n",
        "    for idx in range(len(non_silent_chunk)):\n",
        "      start=non_silent_chunk[idx][0]\n",
        "      end=non_silent_chunk[idx][1]\n",
        "      interval = end-start\n",
        "      if interval>max_interval:\n",
        "        s=start\n",
        "        while interval>max_interval:\n",
        "          e=s+max_interval+threshold\n",
        "          interval=interval-max_interval\n",
        "          new_non_silent_chunk.append([s,e])\n",
        "          s=e-threshold\n",
        "          start=s \n",
        "        if interval<=max_interval:\n",
        "          end=start+interval\n",
        "          new_non_silent_chunk.append([start,end])\n",
        "      else:\n",
        "        new_non_silent_chunk.append([start,end])\n",
        "\n",
        "    return new_non_silent_chunk\n",
        "\n",
        "\n"
      ],
      "metadata": {
        "id": "E_AP-hVUl_FX"
      },
      "execution_count": 73,
      "outputs": []
    },
    {
      "cell_type": "code",
      "source": [
        "# test = audio[75690:95704]\n",
        "# path = \"/content/test_4.wav\"\n",
        "# test.export(path) #Exports to a mp3 file in the current path.\n",
        "# Audio(path, autoplay=False)"
      ],
      "metadata": {
        "id": "K9FL6Muq-h29"
      },
      "execution_count": 74,
      "outputs": []
    },
    {
      "cell_type": "code",
      "source": [
        "import torch"
      ],
      "metadata": {
        "id": "OJ50_q9KaDmn"
      },
      "execution_count": 75,
      "outputs": []
    },
    {
      "cell_type": "code",
      "source": [
        "def transcribe_audio(path,stt_model,stt_tokenizer,audio,start,end,overlap=15):\n",
        "    device = \"cuda\" if torch.cuda.is_available() else \"cpu\"\n",
        "    try:\n",
        "        with torch.no_grad():\n",
        "            new_audio = audio[start:end] \n",
        "            new_audio.export(path)  \n",
        "            print(path)\n",
        "            input_audio,sr=librosa.load(path,sr=16000)\n",
        "            input_values = stt_tokenizer(input_audio,return_tensors=\"pt\").to(device).input_values\n",
        "            logits = stt_model.to(device)(input_values).logits\n",
        "            prediction = torch.argmax(logits, dim=-1)\n",
        "            transcription = stt_tokenizer.batch_decode(prediction)[0].lower()\n",
        "            transcription_start=transcription[:overlap]\n",
        "            transcription_end=transcription[-overlap:]\n",
        "            return transcription,transcription_start,transcription_end\n",
        "    except audioread.NoBackendError:\n",
        "        print(\"start value of chunk > end value of chunk\")\n",
        "        exit()\n"
      ],
      "metadata": {
        "id": "JhPBD74XaD1Y"
      },
      "execution_count": 76,
      "outputs": []
    },
    {
      "cell_type": "code",
      "source": [
        "\n",
        "new_non_silent_chunk = create_chunk(audio,silence_list,threshold=14,max_interval=20000)\n",
        "print(\"new_non_silent_chunk\",new_non_silent_chunk)"
      ],
      "metadata": {
        "colab": {
          "base_uri": "https://localhost:8080/"
        },
        "id": "AELyzIAcPhPC",
        "outputId": "da9353d3-39b4-44ae-a9bc-261d350a17d6"
      },
      "execution_count": 77,
      "outputs": [
        {
          "output_type": "stream",
          "name": "stdout",
          "text": [
            "non_silent_chunk :  [[0, 4477], [6429, 8832], [10119, 15280], [16134, 22575], [23726, 29065], [30415, 37676], [39420, 48085], [49405, 54522], [56033, 70572], [71397, 73301], [76878, 83846], [86474, 94592], [98209, 101881], [106344, 110106], [111386, 114649], [117478, 122364], [128205, 132320], [135841, 139834], [140687, 145659], [149611, 154680], [158090, 162004], [166624, 174826], [177092, 182097], [185632, 188601], [189433, 190714], [191983, 197525], [200601, 210515], [214901, 220083], [222466, 224895], [225751, 228410], [229470, 231457], [236276, 238352], [240368, 245487], [246586, 251237], [253501, 257823], [259899, 264357], [272989, 275352], [280145, 284344], [285130, 290440], [294604, 305327], [311288, 317976], [319614, 326010], [327290, 328655], [330109, 342293], [344706, 346967], [347764, 351473], [354214, 359179], [364497, 377940], [379242, 381036], [384828, 390119], [391770, 399648], [402143, 404214], [405536, 409482], [412105, 414041], [417882, 419399], [423122, 427960], [428898, 430241], [431125, 439629], [440454, 442253], [447305, 453968], [456349, 459169], [461494, 464767], [470000, 473742], [474857, 478157], [480017, 483681], [485417, 488068], [489334, 490198], [495080, 501401], [505577, 510882], [511732, 516355], [519491, 521047], [524201, 529288], [534328, 542365], [545217, 546991], [547857, 550660], [552593, 554631], [555694, 561337], [563837, 570018], [571325, 578533], [579479, 583850], [585965, 590117], [590950, 602068], [602925, 604258], [606217, 610000]]\n",
            "new_non_silent_chunk [[0, 4477], [6429, 8832], [10119, 15280], [16134, 22575], [23726, 29065], [30415, 37676], [39420, 48085], [49405, 54522], [56033, 70572], [71397, 73301], [76878, 83846], [86474, 94592], [98209, 101881], [106344, 110106], [111386, 114649], [117478, 122364], [128205, 132320], [135841, 139834], [140687, 145659], [149611, 154680], [158090, 162004], [166624, 174826], [177092, 182097], [185632, 188601], [189433, 190714], [191983, 197525], [200601, 210515], [214901, 220083], [222466, 224895], [225751, 228410], [229470, 231457], [236276, 238352], [240368, 245487], [246586, 251237], [253501, 257823], [259899, 264357], [272989, 275352], [280145, 284344], [285130, 290440], [294604, 305327], [311288, 317976], [319614, 326010], [327290, 328655], [330109, 342293], [344706, 346967], [347764, 351473], [354214, 359179], [364497, 377940], [379242, 381036], [384828, 390119], [391770, 399648], [402143, 404214], [405536, 409482], [412105, 414041], [417882, 419399], [423122, 427960], [428898, 430241], [431125, 439629], [440454, 442253], [447305, 453968], [456349, 459169], [461494, 464767], [470000, 473742], [474857, 478157], [480017, 483681], [485417, 488068], [489334, 490198], [495080, 501401], [505577, 510882], [511732, 516355], [519491, 521047], [524201, 529288], [534328, 542365], [545217, 546991], [547857, 550660], [552593, 554631], [555694, 561337], [563837, 570018], [571325, 578533], [579479, 583850], [585965, 590117], [590950, 602068], [602925, 604258], [606217, 610000]]\n"
          ]
        }
      ]
    },
    {
      "cell_type": "code",
      "source": [
        "overlap=20\n",
        "overlapping_transcription=[]\n",
        "transcription= \"\"\n",
        "root_path=\"/content/audio_chunks\"\n",
        "for idx in range(len(new_non_silent_chunk)):\n",
        "    start=new_non_silent_chunk[idx][0]\n",
        "    end=new_non_silent_chunk[idx][1]\n",
        "    path=f\"{root_path}/chunk_{idx}.wav\"\n",
        "    orginal_trans,trans_start,trans_end=transcribe_audio(path,stt_model,stt_tokenizer,audio,start,end,overlap)\n",
        "    transcription+=orginal_trans+\" \"\n",
        "    overlapping_transcription.append([trans_start,trans_end])"
      ],
      "metadata": {
        "colab": {
          "base_uri": "https://localhost:8080/"
        },
        "id": "E8ymS9KlCrbq",
        "outputId": "df6a21a0-5300-4842-8b1d-bcc6f59616d4"
      },
      "execution_count": 78,
      "outputs": [
        {
          "output_type": "stream",
          "name": "stderr",
          "text": [
            "It is strongly recommended to pass the ``sampling_rate`` argument to this function. Failing to do so can result in silent errors that might be hard to debug.\n"
          ]
        },
        {
          "output_type": "stream",
          "name": "stdout",
          "text": [
            "/content/audio_chunks/chunk_0.wav\n"
          ]
        },
        {
          "output_type": "stream",
          "name": "stderr",
          "text": [
            "It is strongly recommended to pass the ``sampling_rate`` argument to this function. Failing to do so can result in silent errors that might be hard to debug.\n"
          ]
        },
        {
          "output_type": "stream",
          "name": "stdout",
          "text": [
            "/content/audio_chunks/chunk_1.wav\n"
          ]
        },
        {
          "output_type": "stream",
          "name": "stderr",
          "text": [
            "It is strongly recommended to pass the ``sampling_rate`` argument to this function. Failing to do so can result in silent errors that might be hard to debug.\n"
          ]
        },
        {
          "output_type": "stream",
          "name": "stdout",
          "text": [
            "/content/audio_chunks/chunk_2.wav\n"
          ]
        },
        {
          "output_type": "stream",
          "name": "stderr",
          "text": [
            "It is strongly recommended to pass the ``sampling_rate`` argument to this function. Failing to do so can result in silent errors that might be hard to debug.\n"
          ]
        },
        {
          "output_type": "stream",
          "name": "stdout",
          "text": [
            "/content/audio_chunks/chunk_3.wav\n"
          ]
        },
        {
          "output_type": "stream",
          "name": "stderr",
          "text": [
            "It is strongly recommended to pass the ``sampling_rate`` argument to this function. Failing to do so can result in silent errors that might be hard to debug.\n"
          ]
        },
        {
          "output_type": "stream",
          "name": "stdout",
          "text": [
            "/content/audio_chunks/chunk_4.wav\n"
          ]
        },
        {
          "output_type": "stream",
          "name": "stderr",
          "text": [
            "It is strongly recommended to pass the ``sampling_rate`` argument to this function. Failing to do so can result in silent errors that might be hard to debug.\n"
          ]
        },
        {
          "output_type": "stream",
          "name": "stdout",
          "text": [
            "/content/audio_chunks/chunk_5.wav\n"
          ]
        },
        {
          "output_type": "stream",
          "name": "stderr",
          "text": [
            "It is strongly recommended to pass the ``sampling_rate`` argument to this function. Failing to do so can result in silent errors that might be hard to debug.\n"
          ]
        },
        {
          "output_type": "stream",
          "name": "stdout",
          "text": [
            "/content/audio_chunks/chunk_6.wav\n"
          ]
        },
        {
          "output_type": "stream",
          "name": "stderr",
          "text": [
            "It is strongly recommended to pass the ``sampling_rate`` argument to this function. Failing to do so can result in silent errors that might be hard to debug.\n"
          ]
        },
        {
          "output_type": "stream",
          "name": "stdout",
          "text": [
            "/content/audio_chunks/chunk_7.wav\n"
          ]
        },
        {
          "output_type": "stream",
          "name": "stderr",
          "text": [
            "It is strongly recommended to pass the ``sampling_rate`` argument to this function. Failing to do so can result in silent errors that might be hard to debug.\n"
          ]
        },
        {
          "output_type": "stream",
          "name": "stdout",
          "text": [
            "/content/audio_chunks/chunk_8.wav\n"
          ]
        },
        {
          "output_type": "stream",
          "name": "stderr",
          "text": [
            "It is strongly recommended to pass the ``sampling_rate`` argument to this function. Failing to do so can result in silent errors that might be hard to debug.\n"
          ]
        },
        {
          "output_type": "stream",
          "name": "stdout",
          "text": [
            "/content/audio_chunks/chunk_9.wav\n"
          ]
        },
        {
          "output_type": "stream",
          "name": "stderr",
          "text": [
            "It is strongly recommended to pass the ``sampling_rate`` argument to this function. Failing to do so can result in silent errors that might be hard to debug.\n"
          ]
        },
        {
          "output_type": "stream",
          "name": "stdout",
          "text": [
            "/content/audio_chunks/chunk_10.wav\n"
          ]
        },
        {
          "output_type": "stream",
          "name": "stderr",
          "text": [
            "It is strongly recommended to pass the ``sampling_rate`` argument to this function. Failing to do so can result in silent errors that might be hard to debug.\n"
          ]
        },
        {
          "output_type": "stream",
          "name": "stdout",
          "text": [
            "/content/audio_chunks/chunk_11.wav\n"
          ]
        },
        {
          "output_type": "stream",
          "name": "stderr",
          "text": [
            "It is strongly recommended to pass the ``sampling_rate`` argument to this function. Failing to do so can result in silent errors that might be hard to debug.\n"
          ]
        },
        {
          "output_type": "stream",
          "name": "stdout",
          "text": [
            "/content/audio_chunks/chunk_12.wav\n"
          ]
        },
        {
          "output_type": "stream",
          "name": "stderr",
          "text": [
            "It is strongly recommended to pass the ``sampling_rate`` argument to this function. Failing to do so can result in silent errors that might be hard to debug.\n"
          ]
        },
        {
          "output_type": "stream",
          "name": "stdout",
          "text": [
            "/content/audio_chunks/chunk_13.wav\n"
          ]
        },
        {
          "output_type": "stream",
          "name": "stderr",
          "text": [
            "It is strongly recommended to pass the ``sampling_rate`` argument to this function. Failing to do so can result in silent errors that might be hard to debug.\n"
          ]
        },
        {
          "output_type": "stream",
          "name": "stdout",
          "text": [
            "/content/audio_chunks/chunk_14.wav\n"
          ]
        },
        {
          "output_type": "stream",
          "name": "stderr",
          "text": [
            "It is strongly recommended to pass the ``sampling_rate`` argument to this function. Failing to do so can result in silent errors that might be hard to debug.\n"
          ]
        },
        {
          "output_type": "stream",
          "name": "stdout",
          "text": [
            "/content/audio_chunks/chunk_15.wav\n"
          ]
        },
        {
          "output_type": "stream",
          "name": "stderr",
          "text": [
            "It is strongly recommended to pass the ``sampling_rate`` argument to this function. Failing to do so can result in silent errors that might be hard to debug.\n"
          ]
        },
        {
          "output_type": "stream",
          "name": "stdout",
          "text": [
            "/content/audio_chunks/chunk_16.wav\n"
          ]
        },
        {
          "output_type": "stream",
          "name": "stderr",
          "text": [
            "It is strongly recommended to pass the ``sampling_rate`` argument to this function. Failing to do so can result in silent errors that might be hard to debug.\n"
          ]
        },
        {
          "output_type": "stream",
          "name": "stdout",
          "text": [
            "/content/audio_chunks/chunk_17.wav\n"
          ]
        },
        {
          "output_type": "stream",
          "name": "stderr",
          "text": [
            "It is strongly recommended to pass the ``sampling_rate`` argument to this function. Failing to do so can result in silent errors that might be hard to debug.\n"
          ]
        },
        {
          "output_type": "stream",
          "name": "stdout",
          "text": [
            "/content/audio_chunks/chunk_18.wav\n"
          ]
        },
        {
          "output_type": "stream",
          "name": "stderr",
          "text": [
            "It is strongly recommended to pass the ``sampling_rate`` argument to this function. Failing to do so can result in silent errors that might be hard to debug.\n"
          ]
        },
        {
          "output_type": "stream",
          "name": "stdout",
          "text": [
            "/content/audio_chunks/chunk_19.wav\n"
          ]
        },
        {
          "output_type": "stream",
          "name": "stderr",
          "text": [
            "It is strongly recommended to pass the ``sampling_rate`` argument to this function. Failing to do so can result in silent errors that might be hard to debug.\n"
          ]
        },
        {
          "output_type": "stream",
          "name": "stdout",
          "text": [
            "/content/audio_chunks/chunk_20.wav\n"
          ]
        },
        {
          "output_type": "stream",
          "name": "stderr",
          "text": [
            "It is strongly recommended to pass the ``sampling_rate`` argument to this function. Failing to do so can result in silent errors that might be hard to debug.\n"
          ]
        },
        {
          "output_type": "stream",
          "name": "stdout",
          "text": [
            "/content/audio_chunks/chunk_21.wav\n"
          ]
        },
        {
          "output_type": "stream",
          "name": "stderr",
          "text": [
            "It is strongly recommended to pass the ``sampling_rate`` argument to this function. Failing to do so can result in silent errors that might be hard to debug.\n"
          ]
        },
        {
          "output_type": "stream",
          "name": "stdout",
          "text": [
            "/content/audio_chunks/chunk_22.wav\n"
          ]
        },
        {
          "output_type": "stream",
          "name": "stderr",
          "text": [
            "It is strongly recommended to pass the ``sampling_rate`` argument to this function. Failing to do so can result in silent errors that might be hard to debug.\n"
          ]
        },
        {
          "output_type": "stream",
          "name": "stdout",
          "text": [
            "/content/audio_chunks/chunk_23.wav\n"
          ]
        },
        {
          "output_type": "stream",
          "name": "stderr",
          "text": [
            "It is strongly recommended to pass the ``sampling_rate`` argument to this function. Failing to do so can result in silent errors that might be hard to debug.\n"
          ]
        },
        {
          "output_type": "stream",
          "name": "stdout",
          "text": [
            "/content/audio_chunks/chunk_24.wav\n"
          ]
        },
        {
          "output_type": "stream",
          "name": "stderr",
          "text": [
            "It is strongly recommended to pass the ``sampling_rate`` argument to this function. Failing to do so can result in silent errors that might be hard to debug.\n"
          ]
        },
        {
          "output_type": "stream",
          "name": "stdout",
          "text": [
            "/content/audio_chunks/chunk_25.wav\n"
          ]
        },
        {
          "output_type": "stream",
          "name": "stderr",
          "text": [
            "It is strongly recommended to pass the ``sampling_rate`` argument to this function. Failing to do so can result in silent errors that might be hard to debug.\n"
          ]
        },
        {
          "output_type": "stream",
          "name": "stdout",
          "text": [
            "/content/audio_chunks/chunk_26.wav\n"
          ]
        },
        {
          "output_type": "stream",
          "name": "stderr",
          "text": [
            "It is strongly recommended to pass the ``sampling_rate`` argument to this function. Failing to do so can result in silent errors that might be hard to debug.\n"
          ]
        },
        {
          "output_type": "stream",
          "name": "stdout",
          "text": [
            "/content/audio_chunks/chunk_27.wav\n"
          ]
        },
        {
          "output_type": "stream",
          "name": "stderr",
          "text": [
            "It is strongly recommended to pass the ``sampling_rate`` argument to this function. Failing to do so can result in silent errors that might be hard to debug.\n"
          ]
        },
        {
          "output_type": "stream",
          "name": "stdout",
          "text": [
            "/content/audio_chunks/chunk_28.wav\n"
          ]
        },
        {
          "output_type": "stream",
          "name": "stderr",
          "text": [
            "It is strongly recommended to pass the ``sampling_rate`` argument to this function. Failing to do so can result in silent errors that might be hard to debug.\n"
          ]
        },
        {
          "output_type": "stream",
          "name": "stdout",
          "text": [
            "/content/audio_chunks/chunk_29.wav\n"
          ]
        },
        {
          "output_type": "stream",
          "name": "stderr",
          "text": [
            "It is strongly recommended to pass the ``sampling_rate`` argument to this function. Failing to do so can result in silent errors that might be hard to debug.\n"
          ]
        },
        {
          "output_type": "stream",
          "name": "stdout",
          "text": [
            "/content/audio_chunks/chunk_30.wav\n"
          ]
        },
        {
          "output_type": "stream",
          "name": "stderr",
          "text": [
            "It is strongly recommended to pass the ``sampling_rate`` argument to this function. Failing to do so can result in silent errors that might be hard to debug.\n"
          ]
        },
        {
          "output_type": "stream",
          "name": "stdout",
          "text": [
            "/content/audio_chunks/chunk_31.wav\n"
          ]
        },
        {
          "output_type": "stream",
          "name": "stderr",
          "text": [
            "It is strongly recommended to pass the ``sampling_rate`` argument to this function. Failing to do so can result in silent errors that might be hard to debug.\n"
          ]
        },
        {
          "output_type": "stream",
          "name": "stdout",
          "text": [
            "/content/audio_chunks/chunk_32.wav\n"
          ]
        },
        {
          "output_type": "stream",
          "name": "stderr",
          "text": [
            "It is strongly recommended to pass the ``sampling_rate`` argument to this function. Failing to do so can result in silent errors that might be hard to debug.\n"
          ]
        },
        {
          "output_type": "stream",
          "name": "stdout",
          "text": [
            "/content/audio_chunks/chunk_33.wav\n"
          ]
        },
        {
          "output_type": "stream",
          "name": "stderr",
          "text": [
            "It is strongly recommended to pass the ``sampling_rate`` argument to this function. Failing to do so can result in silent errors that might be hard to debug.\n"
          ]
        },
        {
          "output_type": "stream",
          "name": "stdout",
          "text": [
            "/content/audio_chunks/chunk_34.wav\n"
          ]
        },
        {
          "output_type": "stream",
          "name": "stderr",
          "text": [
            "It is strongly recommended to pass the ``sampling_rate`` argument to this function. Failing to do so can result in silent errors that might be hard to debug.\n"
          ]
        },
        {
          "output_type": "stream",
          "name": "stdout",
          "text": [
            "/content/audio_chunks/chunk_35.wav\n"
          ]
        },
        {
          "output_type": "stream",
          "name": "stderr",
          "text": [
            "It is strongly recommended to pass the ``sampling_rate`` argument to this function. Failing to do so can result in silent errors that might be hard to debug.\n"
          ]
        },
        {
          "output_type": "stream",
          "name": "stdout",
          "text": [
            "/content/audio_chunks/chunk_36.wav\n"
          ]
        },
        {
          "output_type": "stream",
          "name": "stderr",
          "text": [
            "It is strongly recommended to pass the ``sampling_rate`` argument to this function. Failing to do so can result in silent errors that might be hard to debug.\n"
          ]
        },
        {
          "output_type": "stream",
          "name": "stdout",
          "text": [
            "/content/audio_chunks/chunk_37.wav\n"
          ]
        },
        {
          "output_type": "stream",
          "name": "stderr",
          "text": [
            "It is strongly recommended to pass the ``sampling_rate`` argument to this function. Failing to do so can result in silent errors that might be hard to debug.\n"
          ]
        },
        {
          "output_type": "stream",
          "name": "stdout",
          "text": [
            "/content/audio_chunks/chunk_38.wav\n"
          ]
        },
        {
          "output_type": "stream",
          "name": "stderr",
          "text": [
            "It is strongly recommended to pass the ``sampling_rate`` argument to this function. Failing to do so can result in silent errors that might be hard to debug.\n"
          ]
        },
        {
          "output_type": "stream",
          "name": "stdout",
          "text": [
            "/content/audio_chunks/chunk_39.wav\n"
          ]
        },
        {
          "output_type": "stream",
          "name": "stderr",
          "text": [
            "It is strongly recommended to pass the ``sampling_rate`` argument to this function. Failing to do so can result in silent errors that might be hard to debug.\n"
          ]
        },
        {
          "output_type": "stream",
          "name": "stdout",
          "text": [
            "/content/audio_chunks/chunk_40.wav\n"
          ]
        },
        {
          "output_type": "stream",
          "name": "stderr",
          "text": [
            "It is strongly recommended to pass the ``sampling_rate`` argument to this function. Failing to do so can result in silent errors that might be hard to debug.\n"
          ]
        },
        {
          "output_type": "stream",
          "name": "stdout",
          "text": [
            "/content/audio_chunks/chunk_41.wav\n"
          ]
        },
        {
          "output_type": "stream",
          "name": "stderr",
          "text": [
            "It is strongly recommended to pass the ``sampling_rate`` argument to this function. Failing to do so can result in silent errors that might be hard to debug.\n"
          ]
        },
        {
          "output_type": "stream",
          "name": "stdout",
          "text": [
            "/content/audio_chunks/chunk_42.wav\n"
          ]
        },
        {
          "output_type": "stream",
          "name": "stderr",
          "text": [
            "It is strongly recommended to pass the ``sampling_rate`` argument to this function. Failing to do so can result in silent errors that might be hard to debug.\n"
          ]
        },
        {
          "output_type": "stream",
          "name": "stdout",
          "text": [
            "/content/audio_chunks/chunk_43.wav\n"
          ]
        },
        {
          "output_type": "stream",
          "name": "stderr",
          "text": [
            "It is strongly recommended to pass the ``sampling_rate`` argument to this function. Failing to do so can result in silent errors that might be hard to debug.\n"
          ]
        },
        {
          "output_type": "stream",
          "name": "stdout",
          "text": [
            "/content/audio_chunks/chunk_44.wav\n"
          ]
        },
        {
          "output_type": "stream",
          "name": "stderr",
          "text": [
            "It is strongly recommended to pass the ``sampling_rate`` argument to this function. Failing to do so can result in silent errors that might be hard to debug.\n"
          ]
        },
        {
          "output_type": "stream",
          "name": "stdout",
          "text": [
            "/content/audio_chunks/chunk_45.wav\n"
          ]
        },
        {
          "output_type": "stream",
          "name": "stderr",
          "text": [
            "It is strongly recommended to pass the ``sampling_rate`` argument to this function. Failing to do so can result in silent errors that might be hard to debug.\n"
          ]
        },
        {
          "output_type": "stream",
          "name": "stdout",
          "text": [
            "/content/audio_chunks/chunk_46.wav\n"
          ]
        },
        {
          "output_type": "stream",
          "name": "stderr",
          "text": [
            "It is strongly recommended to pass the ``sampling_rate`` argument to this function. Failing to do so can result in silent errors that might be hard to debug.\n"
          ]
        },
        {
          "output_type": "stream",
          "name": "stdout",
          "text": [
            "/content/audio_chunks/chunk_47.wav\n"
          ]
        },
        {
          "output_type": "stream",
          "name": "stderr",
          "text": [
            "It is strongly recommended to pass the ``sampling_rate`` argument to this function. Failing to do so can result in silent errors that might be hard to debug.\n"
          ]
        },
        {
          "output_type": "stream",
          "name": "stdout",
          "text": [
            "/content/audio_chunks/chunk_48.wav\n"
          ]
        },
        {
          "output_type": "stream",
          "name": "stderr",
          "text": [
            "It is strongly recommended to pass the ``sampling_rate`` argument to this function. Failing to do so can result in silent errors that might be hard to debug.\n"
          ]
        },
        {
          "output_type": "stream",
          "name": "stdout",
          "text": [
            "/content/audio_chunks/chunk_49.wav\n"
          ]
        },
        {
          "output_type": "stream",
          "name": "stderr",
          "text": [
            "It is strongly recommended to pass the ``sampling_rate`` argument to this function. Failing to do so can result in silent errors that might be hard to debug.\n"
          ]
        },
        {
          "output_type": "stream",
          "name": "stdout",
          "text": [
            "/content/audio_chunks/chunk_50.wav\n"
          ]
        },
        {
          "output_type": "stream",
          "name": "stderr",
          "text": [
            "It is strongly recommended to pass the ``sampling_rate`` argument to this function. Failing to do so can result in silent errors that might be hard to debug.\n"
          ]
        },
        {
          "output_type": "stream",
          "name": "stdout",
          "text": [
            "/content/audio_chunks/chunk_51.wav\n"
          ]
        },
        {
          "output_type": "stream",
          "name": "stderr",
          "text": [
            "It is strongly recommended to pass the ``sampling_rate`` argument to this function. Failing to do so can result in silent errors that might be hard to debug.\n"
          ]
        },
        {
          "output_type": "stream",
          "name": "stdout",
          "text": [
            "/content/audio_chunks/chunk_52.wav\n"
          ]
        },
        {
          "output_type": "stream",
          "name": "stderr",
          "text": [
            "It is strongly recommended to pass the ``sampling_rate`` argument to this function. Failing to do so can result in silent errors that might be hard to debug.\n"
          ]
        },
        {
          "output_type": "stream",
          "name": "stdout",
          "text": [
            "/content/audio_chunks/chunk_53.wav\n"
          ]
        },
        {
          "output_type": "stream",
          "name": "stderr",
          "text": [
            "It is strongly recommended to pass the ``sampling_rate`` argument to this function. Failing to do so can result in silent errors that might be hard to debug.\n"
          ]
        },
        {
          "output_type": "stream",
          "name": "stdout",
          "text": [
            "/content/audio_chunks/chunk_54.wav\n"
          ]
        },
        {
          "output_type": "stream",
          "name": "stderr",
          "text": [
            "It is strongly recommended to pass the ``sampling_rate`` argument to this function. Failing to do so can result in silent errors that might be hard to debug.\n"
          ]
        },
        {
          "output_type": "stream",
          "name": "stdout",
          "text": [
            "/content/audio_chunks/chunk_55.wav\n"
          ]
        },
        {
          "output_type": "stream",
          "name": "stderr",
          "text": [
            "It is strongly recommended to pass the ``sampling_rate`` argument to this function. Failing to do so can result in silent errors that might be hard to debug.\n"
          ]
        },
        {
          "output_type": "stream",
          "name": "stdout",
          "text": [
            "/content/audio_chunks/chunk_56.wav\n"
          ]
        },
        {
          "output_type": "stream",
          "name": "stderr",
          "text": [
            "It is strongly recommended to pass the ``sampling_rate`` argument to this function. Failing to do so can result in silent errors that might be hard to debug.\n"
          ]
        },
        {
          "output_type": "stream",
          "name": "stdout",
          "text": [
            "/content/audio_chunks/chunk_57.wav\n"
          ]
        },
        {
          "output_type": "stream",
          "name": "stderr",
          "text": [
            "It is strongly recommended to pass the ``sampling_rate`` argument to this function. Failing to do so can result in silent errors that might be hard to debug.\n"
          ]
        },
        {
          "output_type": "stream",
          "name": "stdout",
          "text": [
            "/content/audio_chunks/chunk_58.wav\n"
          ]
        },
        {
          "output_type": "stream",
          "name": "stderr",
          "text": [
            "It is strongly recommended to pass the ``sampling_rate`` argument to this function. Failing to do so can result in silent errors that might be hard to debug.\n"
          ]
        },
        {
          "output_type": "stream",
          "name": "stdout",
          "text": [
            "/content/audio_chunks/chunk_59.wav\n"
          ]
        },
        {
          "output_type": "stream",
          "name": "stderr",
          "text": [
            "It is strongly recommended to pass the ``sampling_rate`` argument to this function. Failing to do so can result in silent errors that might be hard to debug.\n"
          ]
        },
        {
          "output_type": "stream",
          "name": "stdout",
          "text": [
            "/content/audio_chunks/chunk_60.wav\n"
          ]
        },
        {
          "output_type": "stream",
          "name": "stderr",
          "text": [
            "It is strongly recommended to pass the ``sampling_rate`` argument to this function. Failing to do so can result in silent errors that might be hard to debug.\n"
          ]
        },
        {
          "output_type": "stream",
          "name": "stdout",
          "text": [
            "/content/audio_chunks/chunk_61.wav\n"
          ]
        },
        {
          "output_type": "stream",
          "name": "stderr",
          "text": [
            "It is strongly recommended to pass the ``sampling_rate`` argument to this function. Failing to do so can result in silent errors that might be hard to debug.\n"
          ]
        },
        {
          "output_type": "stream",
          "name": "stdout",
          "text": [
            "/content/audio_chunks/chunk_62.wav\n"
          ]
        },
        {
          "output_type": "stream",
          "name": "stderr",
          "text": [
            "It is strongly recommended to pass the ``sampling_rate`` argument to this function. Failing to do so can result in silent errors that might be hard to debug.\n"
          ]
        },
        {
          "output_type": "stream",
          "name": "stdout",
          "text": [
            "/content/audio_chunks/chunk_63.wav\n"
          ]
        },
        {
          "output_type": "stream",
          "name": "stderr",
          "text": [
            "It is strongly recommended to pass the ``sampling_rate`` argument to this function. Failing to do so can result in silent errors that might be hard to debug.\n"
          ]
        },
        {
          "output_type": "stream",
          "name": "stdout",
          "text": [
            "/content/audio_chunks/chunk_64.wav\n"
          ]
        },
        {
          "output_type": "stream",
          "name": "stderr",
          "text": [
            "It is strongly recommended to pass the ``sampling_rate`` argument to this function. Failing to do so can result in silent errors that might be hard to debug.\n"
          ]
        },
        {
          "output_type": "stream",
          "name": "stdout",
          "text": [
            "/content/audio_chunks/chunk_65.wav\n"
          ]
        },
        {
          "output_type": "stream",
          "name": "stderr",
          "text": [
            "It is strongly recommended to pass the ``sampling_rate`` argument to this function. Failing to do so can result in silent errors that might be hard to debug.\n"
          ]
        },
        {
          "output_type": "stream",
          "name": "stdout",
          "text": [
            "/content/audio_chunks/chunk_66.wav\n"
          ]
        },
        {
          "output_type": "stream",
          "name": "stderr",
          "text": [
            "It is strongly recommended to pass the ``sampling_rate`` argument to this function. Failing to do so can result in silent errors that might be hard to debug.\n"
          ]
        },
        {
          "output_type": "stream",
          "name": "stdout",
          "text": [
            "/content/audio_chunks/chunk_67.wav\n"
          ]
        },
        {
          "output_type": "stream",
          "name": "stderr",
          "text": [
            "It is strongly recommended to pass the ``sampling_rate`` argument to this function. Failing to do so can result in silent errors that might be hard to debug.\n"
          ]
        },
        {
          "output_type": "stream",
          "name": "stdout",
          "text": [
            "/content/audio_chunks/chunk_68.wav\n"
          ]
        },
        {
          "output_type": "stream",
          "name": "stderr",
          "text": [
            "It is strongly recommended to pass the ``sampling_rate`` argument to this function. Failing to do so can result in silent errors that might be hard to debug.\n"
          ]
        },
        {
          "output_type": "stream",
          "name": "stdout",
          "text": [
            "/content/audio_chunks/chunk_69.wav\n"
          ]
        },
        {
          "output_type": "stream",
          "name": "stderr",
          "text": [
            "It is strongly recommended to pass the ``sampling_rate`` argument to this function. Failing to do so can result in silent errors that might be hard to debug.\n"
          ]
        },
        {
          "output_type": "stream",
          "name": "stdout",
          "text": [
            "/content/audio_chunks/chunk_70.wav\n"
          ]
        },
        {
          "output_type": "stream",
          "name": "stderr",
          "text": [
            "It is strongly recommended to pass the ``sampling_rate`` argument to this function. Failing to do so can result in silent errors that might be hard to debug.\n"
          ]
        },
        {
          "output_type": "stream",
          "name": "stdout",
          "text": [
            "/content/audio_chunks/chunk_71.wav\n"
          ]
        },
        {
          "output_type": "stream",
          "name": "stderr",
          "text": [
            "It is strongly recommended to pass the ``sampling_rate`` argument to this function. Failing to do so can result in silent errors that might be hard to debug.\n"
          ]
        },
        {
          "output_type": "stream",
          "name": "stdout",
          "text": [
            "/content/audio_chunks/chunk_72.wav\n"
          ]
        },
        {
          "output_type": "stream",
          "name": "stderr",
          "text": [
            "It is strongly recommended to pass the ``sampling_rate`` argument to this function. Failing to do so can result in silent errors that might be hard to debug.\n"
          ]
        },
        {
          "output_type": "stream",
          "name": "stdout",
          "text": [
            "/content/audio_chunks/chunk_73.wav\n"
          ]
        },
        {
          "output_type": "stream",
          "name": "stderr",
          "text": [
            "It is strongly recommended to pass the ``sampling_rate`` argument to this function. Failing to do so can result in silent errors that might be hard to debug.\n"
          ]
        },
        {
          "output_type": "stream",
          "name": "stdout",
          "text": [
            "/content/audio_chunks/chunk_74.wav\n"
          ]
        },
        {
          "output_type": "stream",
          "name": "stderr",
          "text": [
            "It is strongly recommended to pass the ``sampling_rate`` argument to this function. Failing to do so can result in silent errors that might be hard to debug.\n"
          ]
        },
        {
          "output_type": "stream",
          "name": "stdout",
          "text": [
            "/content/audio_chunks/chunk_75.wav\n"
          ]
        },
        {
          "output_type": "stream",
          "name": "stderr",
          "text": [
            "It is strongly recommended to pass the ``sampling_rate`` argument to this function. Failing to do so can result in silent errors that might be hard to debug.\n"
          ]
        },
        {
          "output_type": "stream",
          "name": "stdout",
          "text": [
            "/content/audio_chunks/chunk_76.wav\n"
          ]
        },
        {
          "output_type": "stream",
          "name": "stderr",
          "text": [
            "It is strongly recommended to pass the ``sampling_rate`` argument to this function. Failing to do so can result in silent errors that might be hard to debug.\n"
          ]
        },
        {
          "output_type": "stream",
          "name": "stdout",
          "text": [
            "/content/audio_chunks/chunk_77.wav\n"
          ]
        },
        {
          "output_type": "stream",
          "name": "stderr",
          "text": [
            "It is strongly recommended to pass the ``sampling_rate`` argument to this function. Failing to do so can result in silent errors that might be hard to debug.\n"
          ]
        },
        {
          "output_type": "stream",
          "name": "stdout",
          "text": [
            "/content/audio_chunks/chunk_78.wav\n"
          ]
        },
        {
          "output_type": "stream",
          "name": "stderr",
          "text": [
            "It is strongly recommended to pass the ``sampling_rate`` argument to this function. Failing to do so can result in silent errors that might be hard to debug.\n"
          ]
        },
        {
          "output_type": "stream",
          "name": "stdout",
          "text": [
            "/content/audio_chunks/chunk_79.wav\n"
          ]
        },
        {
          "output_type": "stream",
          "name": "stderr",
          "text": [
            "It is strongly recommended to pass the ``sampling_rate`` argument to this function. Failing to do so can result in silent errors that might be hard to debug.\n"
          ]
        },
        {
          "output_type": "stream",
          "name": "stdout",
          "text": [
            "/content/audio_chunks/chunk_80.wav\n"
          ]
        },
        {
          "output_type": "stream",
          "name": "stderr",
          "text": [
            "It is strongly recommended to pass the ``sampling_rate`` argument to this function. Failing to do so can result in silent errors that might be hard to debug.\n"
          ]
        },
        {
          "output_type": "stream",
          "name": "stdout",
          "text": [
            "/content/audio_chunks/chunk_81.wav\n"
          ]
        },
        {
          "output_type": "stream",
          "name": "stderr",
          "text": [
            "It is strongly recommended to pass the ``sampling_rate`` argument to this function. Failing to do so can result in silent errors that might be hard to debug.\n"
          ]
        },
        {
          "output_type": "stream",
          "name": "stdout",
          "text": [
            "/content/audio_chunks/chunk_82.wav\n"
          ]
        },
        {
          "output_type": "stream",
          "name": "stderr",
          "text": [
            "It is strongly recommended to pass the ``sampling_rate`` argument to this function. Failing to do so can result in silent errors that might be hard to debug.\n"
          ]
        },
        {
          "output_type": "stream",
          "name": "stdout",
          "text": [
            "/content/audio_chunks/chunk_83.wav\n"
          ]
        }
      ]
    },
    {
      "cell_type": "code",
      "source": [
        "transcription"
      ],
      "metadata": {
        "colab": {
          "base_uri": "https://localhost:8080/",
          "height": 182
        },
        "id": "AZUSlIU6CreV",
        "outputId": "7d468e91-34d5-449b-8493-221844db1b41"
      },
      "execution_count": 79,
      "outputs": [
        {
          "output_type": "execute_result",
          "data": {
            "text/plain": [
              "\"ete e e   e  e  an an nod every one i hope all of your doing ve you ever felt the need of automatically creating multipltine series forecasting mode using arima esarima and prophet and then choosing the best one out of that using a single lane of co el guess what i discovered an amazing library calledas otto under scor p otto underscore t s helps you create amazing time series forecasting models with the help of single line of fore i show you the magic of auto underscot t s a big shout out to ram nikhil and kevin for open sourt in this amazing libray aladd the link to the repository in the description section of the vadu feel free to check it without wasting any further time let's gextract the wiluw but here hold on it would be super supermotivating if you can press a subscribe button and also press u bell ichen to be notified for amazing melis on data scignse and machine learn that let's git start the reedi let us kixstart the activity by importing the necessary modules so let me first lord nampai pandas and matlot ihave two files cran dot excellecs and pest dot ecellecs i'll load them into their corresponding git of rings so let me run the se eme now go forward and show you the first five rows of the training ratas as you can clearly see i have two columns dik and se me now go forward and show you the dimensions of my data as yiu can clearly see my training bilda frame has four thirty three rows and two col me also show you the information of the training beta frinlet me run the s as heu can clearly see i have two columns i don't have any null value and my first column is a daytime column and the second column is a float sixty four co me now go forward and show you the total shape of my testing data set so let me run this as you can clearly see i have our testing data set of around sixty one ro order to create better visualizations with my exaccess being thei time axess i will set my date column as the index col let me go forward and run this activity for booth the training bater set and the testing leters now if i show you the first five ros of my training yetaf is something that youw'll observe ydate column is an index column now and my sales column is the only column that i have in my data efore we jump and visualize the power of auto underscore t s let me go forward and visualize both my training data set and my testing data set slet me run the s as ye can clearly see there is a clear positive trend in my sals with respect to time blue coloured line denotes my training dit as my orange coloured line denotes my testing datus this idea is cleared let's go forwar me go forward and unhide the fore we start making use of outo underscore t s library we'll have to install some package 'm using gogelkolab so that is the reason i didn't have to install profit before is referred to the documentation for more information in termes of the installation pres me now go forward and install otto and escort p s o let me run the that the installation is complete let's go forwa efirst step in order to utilize outo underscore p s is to make the necessary impo let me go forward and import auto undersco time series from the auto undersco p s back as you can clearly see as soon as i import outo undersco time series there is a set of documentation that is also given out in terms of how you can better utilize this amazing librar that the imports are complete let me go forward and first create an instance of the auto underscor time series clas first argument that i pass in is forecast in the schoole period and a equated to a value equal sixty y have i chosen sixty on el if you recollect my testing data set has closeto sixty one ros so i want to make a prediction for my testing data set and validate how good it is performing on those unseen sixty one d nexthing that grey specify is the score i want the model to have the lowest root mean squared e ven my data is daily rita i specify time under score interval equal to d and rather than mentioning a particular model like f b prophet or arima or esarima i want this entire auto undesco time series model to give me the best possible model that there is for this particular data s let me go forward and run the sa if you recollect for better visualization i had set the date column as the index col owever for creating the model i require the date column to be an entirely different column so let me go forward and reset the ind now if i show you the training rit of will contain two columns that is date column as well as seals co me now go forward and feid the m et me quickly anid the sa the only thing that you have to do right now is you have to call model dot assing the training did of r assing the columns which contains the dat values and passing the actual values of the columns at imonoforecast that is in our case the seals col let me go forward and run the gives out a warning as well that it is running the best model and it will take time to create the best possible model so be pati started the entire activity with prof now i'm seeing thee sesone lari mavarian being developped as w after creating multiple models we have the results finally with rophet is out performing all the other motals that exist ca ofit has a roote mean squared value of around one point to me now go forward and create future predictio letme ron the sa again i'll reset my testing data st index so that i have two columns date column as well as the sales col c i have the predictions with me what i do is i create a new column call as profert prediction di passin the prediction values to this particular testing data fram so let me run the et me show you the testing date of as yo can clearly see i have three columns now bait sales value and profit product again in order to better visualize the time series plot i will say t my column that is the date column as the index column so let me run the sen me again show you ther testing dat of histime around it will have two columns and one dix co ad this is very evident from this people as now let's go forward and visualize the predictions along with my testing values so let me run the as he can clearly see the prediction values are very close to the actual values there are some deviations as wel idally the overall hutmeen squared edor is very less as compared to the other models that we would have created for this particular data overall i'm very happy with the results that i'm seeing using ought to underscot the this is all that i had in to day's vidio i hope you found this wedio informe you do like the content that i pourst on my channel it would be supermotivating if you can press a subscribe button and also press the bell iken to be notified for amazing redios on dida scince and machine learn ank youso much for watching the rea a tae  aanno \""
            ],
            "application/vnd.google.colaboratory.intrinsic+json": {
              "type": "string"
            }
          },
          "metadata": {},
          "execution_count": 79
        }
      ]
    },
    {
      "cell_type": "code",
      "source": [
        "overlapping_transcription"
      ],
      "metadata": {
        "colab": {
          "base_uri": "https://localhost:8080/"
        },
        "id": "m-44XLmCwB_w",
        "outputId": "abe80132-53ff-4915-8e05-7ae51b5d2bda"
      },
      "execution_count": 80,
      "outputs": [
        {
          "output_type": "execute_result",
          "data": {
            "text/plain": [
              "[['ete e e   e  e  an a', ' e   e  e  an an nod'],\n",
              " ['every one i hope all', 'pe all of your doing'],\n",
              " ['ve you ever felt the', 'ies forecasting mode'],\n",
              " ['using arima esarima ', ' a single lane of co'],\n",
              " ['el guess what i disc', 'as otto under scor p'],\n",
              " ['otto underscore t s ', 'lp of single line of'],\n",
              " ['fore i show you the ', ' this amazing libray'],\n",
              " ['aladd the link to th', 'eel free to check it'],\n",
              " ['without wasting any ', 'se and machine learn'],\n",
              " [\"that let's git start\", ' git start the reedi'],\n",
              " ['let us kixstart the ', 'ai pandas and matlot'],\n",
              " ['ihave two files cran', 'so let me run the se'],\n",
              " ['eme now go forward a', 'f the training ratas'],\n",
              " ['as you can clearly s', 'o columns dik and se'],\n",
              " ['me now go forward an', 'imensions of my data'],\n",
              " ['as yiu can clearly s', 'ree rows and two col'],\n",
              " ['me also show you the', 'frinlet me run the s'],\n",
              " ['as heu can clearly s', ' have any null value'],\n",
              " ['and my first column ', ' float sixty four co'],\n",
              " ['me now go forward an', 't so let me run this'],\n",
              " ['as you can clearly s', ' around sixty one ro'],\n",
              " ['order to create bett', 'umn as the index col'],\n",
              " ['let me go forward an', 'd the testing leters'],\n",
              " ['now if i show you th', 'of my training yetaf'],\n",
              " ['is something that yo', \"that youw'll observe\"],\n",
              " ['ydate column is an i', 'at i have in my data'],\n",
              " ['efore we jump and vi', 'et slet me run the s'],\n",
              " ['as ye can clearly se', 'with respect to time'],\n",
              " ['blue coloured line d', 's my training dit as'],\n",
              " ['my orange coloured l', 'tes my testing datus'],\n",
              " ['this idea is cleared', \"ared let's go forwar\"],\n",
              " ['me go forward and un', 'rward and unhide the'],\n",
              " ['fore we start making', 'install some package'],\n",
              " [\"'m using gogelkolab \", 'nstall profit before'],\n",
              " ['is referred to the d', 'he installation pres'],\n",
              " ['me now go forward an', 'p s o let me run the'],\n",
              " ['that the installatio', \"plete let's go forwa\"],\n",
              " ['efirst step in order', 'e the necessary impo'],\n",
              " ['let me go forward an', 'to undersco p s back'],\n",
              " ['as you can clearly s', ' this amazing librar'],\n",
              " ['that the imports are', 'cor time series clas'],\n",
              " ['first argument that ', ' a value equal sixty'],\n",
              " ['y have i chosen sixt', 've i chosen sixty on'],\n",
              " ['el if you recollect ', 'e unseen sixty one d'],\n",
              " ['nexthing that grey s', 'specify is the score'],\n",
              " ['i want the model to ', ' root mean squared e'],\n",
              " ['ven my data is daily', ' interval equal to d'],\n",
              " ['and rather than ment', 'is particular data s'],\n",
              " ['let me go forward an', 'rward and run the sa'],\n",
              " ['if you recollect for', 'umn as the index col'],\n",
              " ['owever for creating ', 'rd and reset the ind'],\n",
              " ['now if i show you th', ' the training rit of'],\n",
              " ['will contain two col', ' as well as seals co'],\n",
              " ['me now go forward an', 'rward and feid the m'],\n",
              " ['et me quickly anid t', ' quickly anid the sa'],\n",
              " ['the only thing that ', 've to call model dot'],\n",
              " ['assing the training ', 'he training did of r'],\n",
              " ['assing the columns w', 'r case the seals col'],\n",
              " ['let me go forward an', ' forward and run the'],\n",
              " ['gives out a warning ', 'ble model so be pati'],\n",
              " ['started the entire a', 'e activity with prof'],\n",
              " [\"now i'm seeing thee \", 'eing developped as w'],\n",
              " ['after creating multi', 'results finally with'],\n",
              " ['rophet is out perfor', 'motals that exist ca'],\n",
              " ['ofit has a roote mea', ' around one point to'],\n",
              " ['me now go forward an', 'ate future predictio'],\n",
              " ['letme ron the sa', 'letme ron the sa'],\n",
              " [\"again i'll reset my \", 'ell as the sales col'],\n",
              " ['c i have the predict', 's profert prediction'],\n",
              " ['di passin the predic', 'am so let me run the'],\n",
              " ['et me show you the t', ' the testing date of'],\n",
              " ['as yo can clearly se', 'e and profit product'],\n",
              " ['again in order to be', 'o let me run the sen'],\n",
              " ['me again show you th', ' ther testing dat of'],\n",
              " ['histime around it wi', 'lumns and one dix co'],\n",
              " ['ad this is very evid', ' from this people as'],\n",
              " [\"now let's go forward\", 'es so let me run the'],\n",
              " ['as he can clearly se', 'me deviations as wel'],\n",
              " ['idally the overall h', 'this particular data'],\n",
              " [\"overall i'm very hap\", 'ght to underscot the'],\n",
              " ['this is all that i h', 'd this wedio informe'],\n",
              " ['you do like the cont', 'ce and machine learn'],\n",
              " ['ank youso much for w', 'for watching the rea'],\n",
              " ['a tae  aanno', 'a tae  aanno']]"
            ]
          },
          "metadata": {},
          "execution_count": 80
        }
      ]
    },
    {
      "cell_type": "code",
      "source": [
        "model_name=\"flexudy/t5-small-wav2vec2-grammar-fixer\"\n",
        "t5_tokenizer=T5Tokenizer.from_pretrained(model_name)\n",
        "t5_model=T5ForConditionalGeneration.from_pretrained(model_name)\n"
      ],
      "metadata": {
        "id": "Yhj_uVyUlOnj"
      },
      "execution_count": 81,
      "outputs": []
    },
    {
      "cell_type": "code",
      "source": [
        "def add_punctuation(t5_model,t5_tokenizer,transcription):\n",
        "    input_text=\"fix:{\"+transcription+\"}</s>\"\n",
        "    input_ids=t5_tokenizer.encode(input_text,return_tensors=\"pt\",max_length=10000,truncation=True,add_special_tokens=True)\n",
        "    outputs=t5_model.generate(input_ids=input_ids,max_length=256,num_beams=4,repetition_penalty=1.0,\n",
        "                              length_penalty=1.0,early_stopping=True)\n",
        "    transcription=t5_tokenizer.decode(outputs[0],skip_special_tokens=True,clean_up_tokenization_spaces=True)\n",
        "    return transcription"
      ],
      "metadata": {
        "id": "_PfUwfcolWk9"
      },
      "execution_count": 82,
      "outputs": []
    },
    {
      "cell_type": "code",
      "source": [
        "def split_text(transcription,max_size):\n",
        "    cut2=max_size\n",
        "    split_text_list=[]\n",
        "    nearest_idx=0\n",
        "    length=len(transcription)\n",
        "    \n",
        "    if cut2==length:   #  add complete text\n",
        "        split_text_list.append(transcription)\n",
        "    else:\n",
        "        while cut2<=length:\n",
        "            cut1=nearest_idx\n",
        "            cut2=nearest_idx+max_size\n",
        "            # split by period(.)\n",
        "            dots_idxs=[idx for idx,char in enumerate(transcription[cut1:cut2]) if char == \".\"]\n",
        "            if len(dots_idxs):\n",
        "                nearest_idx=max(dots_idxs)+1+cut1\n",
        "            else:     # split by space('\\b') , same as above\n",
        "                spaces_idxs=[idx for idx,char in enumerate(transcription[cut1:cut2]) if char == \" \"]\n",
        "                if len(spaces_idxs):\n",
        "                    nearest_idx=max(spaces_idxs)+1+cut1\n",
        "                else:\n",
        "                    nearest_idx=cut2+cut1\n",
        "            split_text_list.append(transcription[cut1:nearest_idx])\n",
        "\n",
        "    return split_text_list\n"
      ],
      "metadata": {
        "id": "AMthtUNaoYbF"
      },
      "execution_count": 83,
      "outputs": []
    },
    {
      "cell_type": "code",
      "source": [
        "# !pip install -U git+https://github.com/PrithivirajDamodaran/Gramformer.git"
      ],
      "metadata": {
        "id": "NrZwzT5rvNxR"
      },
      "execution_count": 84,
      "outputs": []
    },
    {
      "cell_type": "code",
      "source": [
        "\n",
        "# from gramformer import Gramformer\n",
        "# !python3 -m spacy download en\n",
        "# import spacy.cli \n",
        "\n",
        "# spacy.cli.download(\"en_core_web_md\")\n",
        "# def set_seed(seed):\n",
        "#   torch.manual_seed(seed)\n",
        "#   if torch.cuda.is_available():\n",
        "#     torch.cuda.manual_seed_all(seed)\n",
        "\n",
        "# set_seed(1212)"
      ],
      "metadata": {
        "id": "SpTg02xosM1t"
      },
      "execution_count": 85,
      "outputs": []
    },
    {
      "cell_type": "code",
      "source": [
        "tmp_transcription=transcription\n",
        "split_text_list=split_text(tmp_transcription+\" \",512)\n",
        "punctuated_text=\"\"\n",
        "#gf = Gramformer(models = 1, use_gpu=True) # 1=corrector, 2=detector\n",
        "for split_text in split_text_list:\n",
        "    tmp_text=add_punctuation(t5_model,t5_tokenizer,split_text)\n",
        "    #corrected_sentence = gf.correct(tmp_text,max_candidates=1)\n",
        "    #punctuated_text+=str(corrected_sentence)\n",
        "    punctuated_text+=tmp_text"
      ],
      "metadata": {
        "colab": {
          "base_uri": "https://localhost:8080/"
        },
        "id": "maL1GtcHnxvY",
        "outputId": "665672c9-a16c-46dd-cf24-7fe7e167c1be"
      },
      "execution_count": 86,
      "outputs": [
        {
          "output_type": "stream",
          "name": "stderr",
          "text": [
            "/usr/local/lib/python3.8/dist-packages/transformers/models/t5/tokenization_t5.py:226: UserWarning: This sequence already has </s>. In future versions this behavior may lead to duplicated eos tokens being added.\n",
            "  warnings.warn(\n"
          ]
        }
      ]
    },
    {
      "cell_type": "code",
      "source": [
        "punctuated_text"
      ],
      "metadata": {
        "colab": {
          "base_uri": "https://localhost:8080/",
          "height": 1000
        },
        "id": "2ix-vRjNpcd_",
        "outputId": "9b115ae4-bf72-4211-abf0-7c2804a29e0e"
      },
      "execution_count": 87,
      "outputs": [
        {
          "output_type": "execute_result",
          "data": {
            "text/plain": [
              "\"ete ee ee ee ee an an nod every one i hope all of your doing ve you ever felt the need of automatically creating multipltine series forecasting mode using Amia, Esarima and Prophet, and then choosing the best one out of that using a single-lane of co-el guess what I discovered an amazing library calledas otto under scor p otto underscore t s helps you create amazing time series forecasting models with the help of single line of fore i show you the magic of auto undercot t s a big shout out to Ram Nikhil.and Kevin for open sourt in this amazing libray add the link to the repository in the description section of the vadu. Feel free to check it withoutwasting any further time. Let's gextract the wiluw, but here hold on it would be super supermotivating if you can press a subscribe button and also press u bell ichen to benotified for amazing melis on data scignse and machine learn that let's gig start the reedi let us kickstart the activity byimporting the necessary modules, so let me first, Lord Nampai Pandas.and matlot I've two files: Cran Dot excelles and pest dot ecellecs i'll load them into their respective git of rings so let me run the se eme now go forward and show you the first five rows of the training ratas as you can clearly see i have two columns dik and se me now go forward and show you the dimensions of my data as yiu can clearly see my training bilda frame has four (3,3 rows) and two col me also show you the information of the training beta frinlet me run the s as heu can clearly see i.have two columns: i don't have any null value and my first column is a daytime column, and the second column is afloat '60 four co' me now go forward and show you the total shape of my testing data set, so let me run this as you can clearly see i have our testing data set of around '60 one ro order to create better visualizations with my access being the i time axess i will set my date column as the index col let me go forward and run this activity for booth, the training bater set, and the testing leters.Now if I show you the first five ros of my training yetaf is something you'll observe. ydate column is an index column now and my sales column is the only column that i have in my data efore we jump and visualize the power of auto underscore t s let me go forward and visualize both my training set and my testing data set let me run the s as ye can clearly see. There is a clear positive trend in my sals with respect to time. Blue colored line signifies my training dit as my orange colored line.Denotes my testing datus. This idea is cleared: let's go forwar, me go forward, and hide the fore. We start making use of Outo underscore t s library. We'll have to install some package ''mm using gogelkolab, so that is the reason i didn't have to install profit before' is called the documentation for more information. In terms of the installation pres me now go forward and install otto and escort p s o let me run the that the installation is complete. Let's go forwa 'first step' in order to use outo.underscore p s is to make the necessary ipo let me go forward and import auto undersco time series from the auto undersco p s back. As you can clearly see soon as i import auto undersco time series, there is a set of documentation that is also given out in terms of how you can better use this amazing librar that the imports are complete. Let me go forward and first create an instance of the auto underscor time series. Clas first argument that i pass in is forecast in the schoole period and a equated to:a value equal '60 y' have i chosen '60 on el' if you recall my testing data set has closeto '60 one ros so I want to make a prediction for my testing data set and validate how good it is performing on those unseen '60 one d nexthing that grey specify is the score i want the model to have the lowest root mean squared e ven my data is daily rita i specify time under score interval equal to d, and rather than mention a particular model like f b prophet or Amara or esarima i want this entire auto.undesco time series model to give me the best possible model that there is for this particular data s let me go forward and run the sa if you recall for better visualization i had set the date column as the index col owever for creating the model i require the date column to be an entirely different column so let me go forward and reset the ind now if i show you the training rit of will contain two columns, that is, date column as well as seals co me now go forward and fieid the m et me quickly anid the sa.The only thing you have to do right now is you have to call model dot dipping the training did of r dipping the columns which contains the dat values and passing the actual values of the columns at imonoforecast. That is in our case the seals col let me go forward and run the gives out a warning as well that it is running the best model and it will take time to create the best possible model. So be Pati started the entire activity with prof now i'm seeing thee sesone lari vampire being developed as w.After creating multiple models, we have the results finally with.rophet is out performing all the other motals that exist. Ca. ofit has a roote mean squared value of around one point to me now go forward and create future predictio letme ron the sa again. I'll reset my testing data st index so that i have two columns date column, as well as the sales col c i have the predictions with me what i do is i create a new column call as profert prediction di passin the prediction values to this particular testing data.fram, so let me run the et me show you the testing date of as yo can clearly see i have three columns now bait sales value and profit product again in order to better visualize the time series plot i will say t my column that is the date column as the index column so let me run the sen me again show you ther testing date of time around it will have two columns and one dix co-ad. This is very evident from this people as now let's go forward and visualize the predictions along with my testing values, so let'me run the as he can clearly see. The prediction values are very close to the actual values. There are some deviations as wel idally. The overall Hutmeen squared edor is very less as compared to the other models that we would have created for this particular data overall. I'm very happy with the results that I'm seeing ought to undercot. The this is all that I'm had in today's viidio. I hope you found this wedio informe. You do like the content that i pourst on my channel. It would be supermotivating if you.can press a subscribe button and press the bell iken to benotified for amazing redios on dida scince and machine learn ank you'so much for watching the rea a tae aanno.\""
            ],
            "application/vnd.google.colaboratory.intrinsic+json": {
              "type": "string"
            }
          },
          "metadata": {},
          "execution_count": 87
        }
      ]
    },
    {
      "cell_type": "code",
      "source": [],
      "metadata": {
        "id": "jHUktFSwsM-F"
      },
      "execution_count": 88,
      "outputs": []
    },
    {
      "cell_type": "code",
      "source": [
        "# !pip install micropython-pkg_resources"
      ],
      "metadata": {
        "id": "6LS8LZmEJ_Vq"
      },
      "execution_count": 89,
      "outputs": []
    },
    {
      "cell_type": "code",
      "source": [
        "# import pkg_resources\n",
        "# from symspellpy.symspellpy import SymSpell, Verbosity\n",
        "\n",
        "# # build symspell tree \n",
        "# sym_spell = SymSpell(max_dictionary_edit_distance=2, prefix_length=7)\n",
        "# #loading dictionary/lexicon\n",
        "# dictionary_path = pkg_resources.resource_filename(\n",
        "#     \"symspellpy\", \"frequency_dictionary_en_82_765.txt\")\n",
        "# # term_index is the column of the term and count_index is the\n",
        "# # column of the term frequency\n",
        "# sym_spell.load_dictionary(dictionary_path, term_index=0, count_index=1)\n",
        "\n",
        "# # lookup suggestions for single-word input strings\n",
        "# input_term = \"memebers\"  # misspelling of \"members\"\n",
        "# # max edit distance per lookup\n",
        "# print(\"Misspelled Word - \",input_term)\n",
        "# # (max_edit_distance_lookup <= max_dictionary_edit_distance)\n",
        "# suggestions = sym_spell.lookup(input_term, Verbosity.CLOSEST,\n",
        "#                                max_edit_distance=2)\n",
        "# # display suggestion term, term frequency, and edit distance\n",
        "# print(\"Best Candidate - \")\n",
        "# for suggestion in suggestions:\n",
        "#     print(suggestion)"
      ],
      "metadata": {
        "id": "BGlPYbd9GcQ_"
      },
      "execution_count": 90,
      "outputs": []
    }
  ]
}